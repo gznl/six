{
 "cells": [
  {
   "cell_type": "code",
   "execution_count": 16,
   "metadata": {},
   "outputs": [],
   "source": [
    "import pandas as pd\n",
    "import numpy as np\n",
    "import matplotlib.pyplot as plt\n",
    "%matplotlib inline"
   ]
  },
  {
   "cell_type": "code",
   "execution_count": 2,
   "metadata": {},
   "outputs": [],
   "source": [
    "df = pd.read_html('http://www.nfd.com.tw/house/year/2017.htm', header=0)"
   ]
  },
  {
   "cell_type": "code",
   "execution_count": 3,
   "metadata": {},
   "outputs": [],
   "source": [
    "df2017 = df[0]"
   ]
  },
  {
   "cell_type": "code",
   "execution_count": 4,
   "metadata": {
    "scrolled": true
   },
   "outputs": [
    {
     "data": {
      "text/html": [
       "<div>\n",
       "<style>\n",
       "    .dataframe thead tr:only-child th {\n",
       "        text-align: right;\n",
       "    }\n",
       "\n",
       "    .dataframe thead th {\n",
       "        text-align: left;\n",
       "    }\n",
       "\n",
       "    .dataframe tbody tr th {\n",
       "        vertical-align: top;\n",
       "    }\n",
       "</style>\n",
       "<table border=\"1\" class=\"dataframe\">\n",
       "  <thead>\n",
       "    <tr style=\"text-align: right;\">\n",
       "      <th></th>\n",
       "      <th>YEAR</th>\n",
       "      <th>TIMES</th>\n",
       "      <th>N1</th>\n",
       "      <th>N2</th>\n",
       "      <th>N3</th>\n",
       "      <th>N4</th>\n",
       "      <th>N5</th>\n",
       "      <th>N6</th>\n",
       "      <th>S1</th>\n",
       "    </tr>\n",
       "  </thead>\n",
       "  <tbody>\n",
       "    <tr>\n",
       "      <th>0</th>\n",
       "      <td>2017</td>\n",
       "      <td>1</td>\n",
       "      <td>4</td>\n",
       "      <td>11</td>\n",
       "      <td>22</td>\n",
       "      <td>29</td>\n",
       "      <td>37</td>\n",
       "      <td>46</td>\n",
       "      <td>18</td>\n",
       "    </tr>\n",
       "    <tr>\n",
       "      <th>1</th>\n",
       "      <td>2017</td>\n",
       "      <td>2</td>\n",
       "      <td>5</td>\n",
       "      <td>14</td>\n",
       "      <td>20</td>\n",
       "      <td>21</td>\n",
       "      <td>36</td>\n",
       "      <td>49</td>\n",
       "      <td>39</td>\n",
       "    </tr>\n",
       "    <tr>\n",
       "      <th>2</th>\n",
       "      <td>2017</td>\n",
       "      <td>3</td>\n",
       "      <td>7</td>\n",
       "      <td>10</td>\n",
       "      <td>14</td>\n",
       "      <td>29</td>\n",
       "      <td>45</td>\n",
       "      <td>46</td>\n",
       "      <td>19</td>\n",
       "    </tr>\n",
       "    <tr>\n",
       "      <th>3</th>\n",
       "      <td>2017</td>\n",
       "      <td>4</td>\n",
       "      <td>2</td>\n",
       "      <td>7</td>\n",
       "      <td>14</td>\n",
       "      <td>26</td>\n",
       "      <td>38</td>\n",
       "      <td>39</td>\n",
       "      <td>12</td>\n",
       "    </tr>\n",
       "    <tr>\n",
       "      <th>4</th>\n",
       "      <td>2017</td>\n",
       "      <td>5</td>\n",
       "      <td>18</td>\n",
       "      <td>25</td>\n",
       "      <td>27</td>\n",
       "      <td>30</td>\n",
       "      <td>40</td>\n",
       "      <td>43</td>\n",
       "      <td>6</td>\n",
       "    </tr>\n",
       "  </tbody>\n",
       "</table>\n",
       "</div>"
      ],
      "text/plain": [
       "   YEAR  TIMES  N1  N2  N3  N4  N5  N6  S1\n",
       "0  2017      1   4  11  22  29  37  46  18\n",
       "1  2017      2   5  14  20  21  36  49  39\n",
       "2  2017      3   7  10  14  29  45  46  19\n",
       "3  2017      4   2   7  14  26  38  39  12\n",
       "4  2017      5  18  25  27  30  40  43   6"
      ]
     },
     "execution_count": 4,
     "metadata": {},
     "output_type": "execute_result"
    }
   ],
   "source": [
    "df2017.head()"
   ]
  },
  {
   "cell_type": "code",
   "execution_count": 9,
   "metadata": {},
   "outputs": [],
   "source": [
    "def func_1(s1):\n",
    "    \n",
    "    cdict = {'red':[1,2,7,8,12,13,18,19,23,24,29,30,34,35,40,45,46],\n",
    "        'blue':[3,4,9,10,14,15,20,25,26,31,36,37,41,42,47,48],\n",
    "        'green':[5,6,11,16,17,21,22,27,28,32,33,38,39,43,44,49]}\n",
    "    \n",
    "    if s1 in cdict['red']:\n",
    "        return 'red'\n",
    "    elif s1 in cdict['blue']:\n",
    "        return 'blue'\n",
    "    else:\n",
    "        return 'green'"
   ]
  },
  {
   "cell_type": "code",
   "execution_count": 10,
   "metadata": {},
   "outputs": [],
   "source": [
    "df2017['color'] = df2017['S1'].apply(func_1)"
   ]
  },
  {
   "cell_type": "code",
   "execution_count": 18,
   "metadata": {},
   "outputs": [],
   "source": [
    "def func_2(s1):\n",
    "    \n",
    "    zodiac = {'rat':[10,22,34,46],\n",
    "             'ox':[9,21,33,45],\n",
    "             'tiger':[8,20,32,44],\n",
    "             'rabbit':[7,19,31,43],\n",
    "             'dragon':[6,18,30,42],\n",
    "             'snake':[5,17,29,41],\n",
    "             'horse':[4,16,28,40],\n",
    "             'goat':[3,15,27,39],\n",
    "             'monkey':[2,14,26,38],\n",
    "             'rooster':[1,13,25,37,49],\n",
    "             'dog':[12,24,36,48],\n",
    "             'pig':[11,23,35,47]}\n",
    "    \n",
    "    if s1 in zodiac['rat']:\n",
    "        return 'rat'\n",
    "    elif s1 in zodiac['ox']:\n",
    "        return 'ox'\n",
    "    elif s1 in zodiac['tiger']:\n",
    "        return 'tiger'\n",
    "    elif s1 in zodiac['rabbit']:\n",
    "        return 'rabbit'\n",
    "    elif s1 in zodiac['dragon']:\n",
    "        return 'dragon'\n",
    "    elif s1 in zodiac['snake']:\n",
    "        return 'snake'\n",
    "    elif s1 in zodiac['horse']:\n",
    "        return 'horse'\n",
    "    elif s1 in zodiac['goat']:\n",
    "        return 'goat'\n",
    "    elif s1 in zodiac['monkey']:\n",
    "        return 'monkey'\n",
    "    elif s1 in zodiac['rooster']:\n",
    "        return 'rooster'\n",
    "    elif s1 in zodiac['dog']:\n",
    "        return 'dog'\n",
    "    else:\n",
    "        return 'pig'"
   ]
  },
  {
   "cell_type": "code",
   "execution_count": 19,
   "metadata": {},
   "outputs": [],
   "source": [
    "df2017['zodiac'] = df2017['S1'].apply(func_2)"
   ]
  },
  {
   "cell_type": "code",
   "execution_count": 21,
   "metadata": {
    "scrolled": true
   },
   "outputs": [
    {
     "data": {
      "text/plain": [
       "dragon     18\n",
       "rabbit     15\n",
       "rooster    14\n",
       "goat       14\n",
       "tiger      14\n",
       "horse      13\n",
       "dog        12\n",
       "ox         12\n",
       "snake      11\n",
       "monkey     11\n",
       "rat        10\n",
       "pig         9\n",
       "Name: zodiac, dtype: int64"
      ]
     },
     "execution_count": 21,
     "metadata": {},
     "output_type": "execute_result"
    }
   ],
   "source": [
    "df2017['zodiac'].value_counts()"
   ]
  },
  {
   "cell_type": "code",
   "execution_count": 22,
   "metadata": {},
   "outputs": [],
   "source": [
    "def func_3(s1):\n",
    "    \n",
    "    if s1 % 2 == 0:\n",
    "        return 'even'\n",
    "    else:\n",
    "        return 'odd'"
   ]
  },
  {
   "cell_type": "code",
   "execution_count": 25,
   "metadata": {},
   "outputs": [],
   "source": [
    "df2017['EvO'] = df2017['S1'].apply(func_3)"
   ]
  },
  {
   "cell_type": "code",
   "execution_count": 27,
   "metadata": {},
   "outputs": [
    {
     "data": {
      "text/plain": [
       "even    78\n",
       "odd     75\n",
       "Name: EvO, dtype: int64"
      ]
     },
     "execution_count": 27,
     "metadata": {},
     "output_type": "execute_result"
    }
   ],
   "source": [
    "df2017['EvO'].value_counts()"
   ]
  }
 ],
 "metadata": {
  "kernelspec": {
   "display_name": "Python 3",
   "language": "python",
   "name": "python3"
  },
  "language_info": {
   "codemirror_mode": {
    "name": "ipython",
    "version": 3
   },
   "file_extension": ".py",
   "mimetype": "text/x-python",
   "name": "python",
   "nbconvert_exporter": "python",
   "pygments_lexer": "ipython3",
   "version": "3.6.2"
  }
 },
 "nbformat": 4,
 "nbformat_minor": 2
}
