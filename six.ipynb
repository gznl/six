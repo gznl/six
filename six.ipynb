{
 "cells": [
  {
   "cell_type": "code",
   "execution_count": 1,
   "metadata": {
    "collapsed": true
   },
   "outputs": [],
   "source": [
    "import pandas as pd\n",
    "import numpy as np\n",
    "import matplotlib.pyplot as plt\n",
    "%matplotlib inline"
   ]
  },
  {
   "cell_type": "code",
   "execution_count": 2,
   "metadata": {
    "scrolled": true
   },
   "outputs": [
    {
     "data": {
      "text/html": [
       "<div>\n",
       "<style>\n",
       "    .dataframe thead tr:only-child th {\n",
       "        text-align: right;\n",
       "    }\n",
       "\n",
       "    .dataframe thead th {\n",
       "        text-align: left;\n",
       "    }\n",
       "\n",
       "    .dataframe tbody tr th {\n",
       "        vertical-align: top;\n",
       "    }\n",
       "</style>\n",
       "<table border=\"1\" class=\"dataframe\">\n",
       "  <thead>\n",
       "    <tr style=\"text-align: right;\">\n",
       "      <th></th>\n",
       "      <th>year</th>\n",
       "      <th>index</th>\n",
       "      <th>date</th>\n",
       "      <th>N1</th>\n",
       "      <th>N2</th>\n",
       "      <th>N3</th>\n",
       "      <th>N4</th>\n",
       "      <th>N5</th>\n",
       "      <th>N6</th>\n",
       "      <th>S1</th>\n",
       "    </tr>\n",
       "  </thead>\n",
       "  <tbody>\n",
       "    <tr>\n",
       "      <th>148</th>\n",
       "      <td>2017</td>\n",
       "      <td>149</td>\n",
       "      <td>2017-12-21</td>\n",
       "      <td>47</td>\n",
       "      <td>30</td>\n",
       "      <td>21</td>\n",
       "      <td>28</td>\n",
       "      <td>14</td>\n",
       "      <td>22</td>\n",
       "      <td>3</td>\n",
       "    </tr>\n",
       "    <tr>\n",
       "      <th>149</th>\n",
       "      <td>2017</td>\n",
       "      <td>150</td>\n",
       "      <td>2017-12-24</td>\n",
       "      <td>34</td>\n",
       "      <td>39</td>\n",
       "      <td>47</td>\n",
       "      <td>1</td>\n",
       "      <td>16</td>\n",
       "      <td>26</td>\n",
       "      <td>11</td>\n",
       "    </tr>\n",
       "    <tr>\n",
       "      <th>150</th>\n",
       "      <td>2017</td>\n",
       "      <td>151</td>\n",
       "      <td>2017-12-26</td>\n",
       "      <td>37</td>\n",
       "      <td>2</td>\n",
       "      <td>7</td>\n",
       "      <td>30</td>\n",
       "      <td>16</td>\n",
       "      <td>28</td>\n",
       "      <td>12</td>\n",
       "    </tr>\n",
       "    <tr>\n",
       "      <th>151</th>\n",
       "      <td>2017</td>\n",
       "      <td>152</td>\n",
       "      <td>2017-12-28</td>\n",
       "      <td>46</td>\n",
       "      <td>15</td>\n",
       "      <td>40</td>\n",
       "      <td>44</td>\n",
       "      <td>17</td>\n",
       "      <td>23</td>\n",
       "      <td>11</td>\n",
       "    </tr>\n",
       "    <tr>\n",
       "      <th>152</th>\n",
       "      <td>2017</td>\n",
       "      <td>153</td>\n",
       "      <td>2017-12-30</td>\n",
       "      <td>13</td>\n",
       "      <td>1</td>\n",
       "      <td>25</td>\n",
       "      <td>38</td>\n",
       "      <td>36</td>\n",
       "      <td>22</td>\n",
       "      <td>37</td>\n",
       "    </tr>\n",
       "  </tbody>\n",
       "</table>\n",
       "</div>"
      ],
      "text/plain": [
       "     year  index        date  N1  N2  N3  N4  N5  N6  S1\n",
       "148  2017    149  2017-12-21  47  30  21  28  14  22   3\n",
       "149  2017    150  2017-12-24  34  39  47   1  16  26  11\n",
       "150  2017    151  2017-12-26  37   2   7  30  16  28  12\n",
       "151  2017    152  2017-12-28  46  15  40  44  17  23  11\n",
       "152  2017    153  2017-12-30  13   1  25  38  36  22  37"
      ]
     },
     "execution_count": 2,
     "metadata": {},
     "output_type": "execute_result"
    }
   ],
   "source": [
    "lidf = []\n",
    "for i in range(2006,2018):\n",
    "    df = pd.read_html('http://www.cpzhan.com/liu-he-cai/all-results/?year={}&sort=seq'.format(i), header=0)\n",
    "    lidf.append(df[0])\n",
    "df_concat = pd.concat(lidf)\n",
    "df_concat.columns = ['year','index','date','N1', 'N2', 'N3', 'N4', 'N5', 'N6','S1']\n",
    "df_concat.tail()"
   ]
  },
  {
   "cell_type": "code",
   "execution_count": 37,
   "metadata": {
    "collapsed": true
   },
   "outputs": [],
   "source": [
    "df_concat.to_csv('2006_2017_raw.csv', index=False)"
   ]
  },
  {
   "cell_type": "code",
   "execution_count": 4,
   "metadata": {
    "collapsed": true
   },
   "outputs": [],
   "source": [
    "def func_1(s1):\n",
    "    \n",
    "    cdict = {'red':[1,2,7,8,12,13,18,19,23,24,29,30,34,35,40,45,46],\n",
    "        'blue':[3,4,9,10,14,15,20,25,26,31,36,37,41,42,47,48],\n",
    "        'green':[5,6,11,16,17,21,22,27,28,32,33,38,39,43,44,49]}\n",
    "    \n",
    "    if s1 in cdict['red']:\n",
    "        return 'red'\n",
    "    elif s1 in cdict['blue']:\n",
    "        return 'blue'\n",
    "    else:\n",
    "        return 'green'"
   ]
  },
  {
   "cell_type": "code",
   "execution_count": 34,
   "metadata": {
    "collapsed": true
   },
   "outputs": [],
   "source": [
    "def generate_zodiac(year):\n",
    "    \n",
    "    sign = np.nan\n",
    "    \n",
    "    if (year - 2000) % 12 == 0:\n",
    "        sign = 'dragon'\n",
    "    elif (year - 2000) % 12 == 1:\n",
    "        sign = 'snake'\n",
    "    elif (year - 2000) % 12 == 2:\n",
    "        sign = 'horse'\n",
    "    elif (year - 2000) % 12 == 3:\n",
    "        sign = 'goat'\n",
    "    elif (year - 2000) % 12 == 4:\n",
    "        sign = 'monkey'\n",
    "    elif (year - 2000) % 12 == 5:\n",
    "        sign = 'rooster'\n",
    "    elif (year - 2000) % 12 == 6:\n",
    "        sign = 'dog'\n",
    "    elif (year - 2000) % 12 == 7:\n",
    "        sign = 'pig'\n",
    "    elif (year - 2000) % 12 == 8:\n",
    "        sign = 'rat'\n",
    "    elif (year - 2000) % 12 == 9:\n",
    "        sign = 'ox'\n",
    "    elif (sign - 2000) % 12 == 10:\n",
    "        sign = 'tiger'\n",
    "    else:\n",
    "        sign = 'rabbit'\n",
    "        \n",
    "    zdlist = ['rat','pig','dog','rooster','monkey','goat','horse','snake','dragon','rabbit','tiger','ox']*2\n",
    "    seq_list = zdlist[zdlist.index(sign):zdlist.index(sign)+12]\n",
    "    \n",
    "    zodiac = {}\n",
    "    mat = np.arange(1,49).reshape(4,12).transpose().tolist()\n",
    "    mat[0].append(49)\n",
    "    \n",
    "    for num, key in enumerate(seq_list):\n",
    "        \n",
    "        zodiac[key] = mat[num]\n",
    "    \n",
    "    return zodiac"
   ]
  },
  {
   "cell_type": "code",
   "execution_count": 6,
   "metadata": {
    "collapsed": true
   },
   "outputs": [],
   "source": [
    "def func_2(year, s1):\n",
    "    \n",
    "    zodiac = generate_zodiac(year)\n",
    "    \n",
    "    if s1 in zodiac['rat']:\n",
    "        return 'rat'\n",
    "    elif s1 in zodiac['ox']:\n",
    "        return 'ox'\n",
    "    elif s1 in zodiac['tiger']:\n",
    "        return 'tiger'\n",
    "    elif s1 in zodiac['rabbit']:\n",
    "        return 'rabbit'\n",
    "    elif s1 in zodiac['dragon']:\n",
    "        return 'dragon'\n",
    "    elif s1 in zodiac['snake']:\n",
    "        return 'snake'\n",
    "    elif s1 in zodiac['horse']:\n",
    "        return 'horse'\n",
    "    elif s1 in zodiac['goat']:\n",
    "        return 'goat'\n",
    "    elif s1 in zodiac['monkey']:\n",
    "        return 'monkey'\n",
    "    elif s1 in zodiac['rooster']:\n",
    "        return 'rooster'\n",
    "    elif s1 in zodiac['dog']:\n",
    "        return 'dog'\n",
    "    else:\n",
    "        return 'pig'"
   ]
  },
  {
   "cell_type": "code",
   "execution_count": 7,
   "metadata": {
    "collapsed": true
   },
   "outputs": [],
   "source": [
    "def func_3(s1):\n",
    "    \n",
    "    if s1 % 2 == 0:\n",
    "        return 'even'\n",
    "    else:\n",
    "        return 'odd'"
   ]
  },
  {
   "cell_type": "code",
   "execution_count": 8,
   "metadata": {
    "collapsed": true
   },
   "outputs": [],
   "source": [
    "def func_4(s1):\n",
    "    \n",
    "    if s1 >= 25:\n",
    "        return 'big'\n",
    "    else:\n",
    "        return 'small'"
   ]
  },
  {
   "cell_type": "code",
   "execution_count": 9,
   "metadata": {},
   "outputs": [],
   "source": [
    "df_concat['color'] = df_concat['S1'].apply(func_1)"
   ]
  },
  {
   "cell_type": "code",
   "execution_count": 35,
   "metadata": {},
   "outputs": [],
   "source": [
    "df_concat['zodiac'] = df_concat.apply(lambda x: func_2(x['year'], x['S1']), axis=1)"
   ]
  },
  {
   "cell_type": "code",
   "execution_count": 13,
   "metadata": {
    "collapsed": true
   },
   "outputs": [],
   "source": [
    "df_concat['EvO'] = df_concat['S1'].apply(func_3)"
   ]
  },
  {
   "cell_type": "code",
   "execution_count": 14,
   "metadata": {
    "collapsed": true
   },
   "outputs": [],
   "source": [
    "df_concat['BS'] = df_concat['S1'].apply(func_4)"
   ]
  },
  {
   "cell_type": "code",
   "execution_count": 24,
   "metadata": {
    "scrolled": true
   },
   "outputs": [
    {
     "data": {
      "text/plain": [
       "year\n",
       "2006    154\n",
       "2007    152\n",
       "2008    149\n",
       "2009    154\n",
       "2010    152\n",
       "2011    154\n",
       "2012    152\n",
       "2013    152\n",
       "2014    152\n",
       "2015    152\n",
       "2016    151\n",
       "2017    153\n",
       "Name: year, dtype: int64"
      ]
     },
     "execution_count": 24,
     "metadata": {},
     "output_type": "execute_result"
    }
   ],
   "source": [
    "df_concat.groupby('year')['year'].count()"
   ]
  },
  {
   "cell_type": "code",
   "execution_count": 36,
   "metadata": {
    "scrolled": true
   },
   "outputs": [
    {
     "data": {
      "text/html": [
       "<div>\n",
       "<style>\n",
       "    .dataframe thead tr:only-child th {\n",
       "        text-align: right;\n",
       "    }\n",
       "\n",
       "    .dataframe thead th {\n",
       "        text-align: left;\n",
       "    }\n",
       "\n",
       "    .dataframe tbody tr th {\n",
       "        vertical-align: top;\n",
       "    }\n",
       "</style>\n",
       "<table border=\"1\" class=\"dataframe\">\n",
       "  <thead>\n",
       "    <tr style=\"text-align: right;\">\n",
       "      <th></th>\n",
       "      <th>year</th>\n",
       "      <th>index</th>\n",
       "      <th>date</th>\n",
       "      <th>N1</th>\n",
       "      <th>N2</th>\n",
       "      <th>N3</th>\n",
       "      <th>N4</th>\n",
       "      <th>N5</th>\n",
       "      <th>N6</th>\n",
       "      <th>S1</th>\n",
       "      <th>color</th>\n",
       "      <th>zodiac</th>\n",
       "      <th>EvO</th>\n",
       "      <th>BS</th>\n",
       "    </tr>\n",
       "  </thead>\n",
       "  <tbody>\n",
       "    <tr>\n",
       "      <th>149</th>\n",
       "      <td>2009</td>\n",
       "      <td>150</td>\n",
       "      <td>2009-12-22</td>\n",
       "      <td>33</td>\n",
       "      <td>6</td>\n",
       "      <td>44</td>\n",
       "      <td>23</td>\n",
       "      <td>30</td>\n",
       "      <td>43</td>\n",
       "      <td>10</td>\n",
       "      <td>blue</td>\n",
       "      <td>dragon</td>\n",
       "      <td>even</td>\n",
       "      <td>small</td>\n",
       "    </tr>\n",
       "    <tr>\n",
       "      <th>150</th>\n",
       "      <td>2009</td>\n",
       "      <td>151</td>\n",
       "      <td>2009-12-24</td>\n",
       "      <td>20</td>\n",
       "      <td>22</td>\n",
       "      <td>27</td>\n",
       "      <td>26</td>\n",
       "      <td>44</td>\n",
       "      <td>31</td>\n",
       "      <td>49</td>\n",
       "      <td>green</td>\n",
       "      <td>ox</td>\n",
       "      <td>odd</td>\n",
       "      <td>big</td>\n",
       "    </tr>\n",
       "    <tr>\n",
       "      <th>151</th>\n",
       "      <td>2009</td>\n",
       "      <td>152</td>\n",
       "      <td>2009-12-26</td>\n",
       "      <td>42</td>\n",
       "      <td>27</td>\n",
       "      <td>21</td>\n",
       "      <td>17</td>\n",
       "      <td>36</td>\n",
       "      <td>6</td>\n",
       "      <td>23</td>\n",
       "      <td>red</td>\n",
       "      <td>rabbit</td>\n",
       "      <td>odd</td>\n",
       "      <td>small</td>\n",
       "    </tr>\n",
       "    <tr>\n",
       "      <th>152</th>\n",
       "      <td>2009</td>\n",
       "      <td>153</td>\n",
       "      <td>2009-12-29</td>\n",
       "      <td>33</td>\n",
       "      <td>39</td>\n",
       "      <td>9</td>\n",
       "      <td>38</td>\n",
       "      <td>27</td>\n",
       "      <td>40</td>\n",
       "      <td>14</td>\n",
       "      <td>blue</td>\n",
       "      <td>rat</td>\n",
       "      <td>even</td>\n",
       "      <td>small</td>\n",
       "    </tr>\n",
       "    <tr>\n",
       "      <th>153</th>\n",
       "      <td>2009</td>\n",
       "      <td>154</td>\n",
       "      <td>2009-12-31</td>\n",
       "      <td>33</td>\n",
       "      <td>26</td>\n",
       "      <td>28</td>\n",
       "      <td>41</td>\n",
       "      <td>31</td>\n",
       "      <td>40</td>\n",
       "      <td>19</td>\n",
       "      <td>red</td>\n",
       "      <td>goat</td>\n",
       "      <td>odd</td>\n",
       "      <td>small</td>\n",
       "    </tr>\n",
       "  </tbody>\n",
       "</table>\n",
       "</div>"
      ],
      "text/plain": [
       "     year  index        date  N1  N2  N3  N4  N5  N6  S1  color  zodiac   EvO  \\\n",
       "149  2009    150  2009-12-22  33   6  44  23  30  43  10   blue  dragon  even   \n",
       "150  2009    151  2009-12-24  20  22  27  26  44  31  49  green      ox   odd   \n",
       "151  2009    152  2009-12-26  42  27  21  17  36   6  23    red  rabbit   odd   \n",
       "152  2009    153  2009-12-29  33  39   9  38  27  40  14   blue     rat  even   \n",
       "153  2009    154  2009-12-31  33  26  28  41  31  40  19    red    goat   odd   \n",
       "\n",
       "        BS  \n",
       "149  small  \n",
       "150    big  \n",
       "151  small  \n",
       "152  small  \n",
       "153  small  "
      ]
     },
     "execution_count": 36,
     "metadata": {},
     "output_type": "execute_result"
    }
   ],
   "source": [
    "df_concat[df_concat['year']==2009].tail()"
   ]
  },
  {
   "cell_type": "code",
   "execution_count": 38,
   "metadata": {},
   "outputs": [],
   "source": [
    "df_concat['date'] = pd.to_datetime(df_concat['date'])"
   ]
  },
  {
   "cell_type": "code",
   "execution_count": 39,
   "metadata": {
    "collapsed": true
   },
   "outputs": [],
   "source": [
    "df_concat.set_index('date', inplace=True)"
   ]
  },
  {
   "cell_type": "code",
   "execution_count": 41,
   "metadata": {},
   "outputs": [],
   "source": [
    "df_concat['month'] = df_concat.index.month"
   ]
  },
  {
   "cell_type": "code",
   "execution_count": 42,
   "metadata": {},
   "outputs": [
    {
     "data": {
      "text/html": [
       "<div>\n",
       "<style>\n",
       "    .dataframe thead tr:only-child th {\n",
       "        text-align: right;\n",
       "    }\n",
       "\n",
       "    .dataframe thead th {\n",
       "        text-align: left;\n",
       "    }\n",
       "\n",
       "    .dataframe tbody tr th {\n",
       "        vertical-align: top;\n",
       "    }\n",
       "</style>\n",
       "<table border=\"1\" class=\"dataframe\">\n",
       "  <thead>\n",
       "    <tr style=\"text-align: right;\">\n",
       "      <th></th>\n",
       "      <th>year</th>\n",
       "      <th>index</th>\n",
       "      <th>N1</th>\n",
       "      <th>N2</th>\n",
       "      <th>N3</th>\n",
       "      <th>N4</th>\n",
       "      <th>N5</th>\n",
       "      <th>N6</th>\n",
       "      <th>S1</th>\n",
       "      <th>color</th>\n",
       "      <th>zodiac</th>\n",
       "      <th>EvO</th>\n",
       "      <th>BS</th>\n",
       "      <th>month</th>\n",
       "    </tr>\n",
       "    <tr>\n",
       "      <th>date</th>\n",
       "      <th></th>\n",
       "      <th></th>\n",
       "      <th></th>\n",
       "      <th></th>\n",
       "      <th></th>\n",
       "      <th></th>\n",
       "      <th></th>\n",
       "      <th></th>\n",
       "      <th></th>\n",
       "      <th></th>\n",
       "      <th></th>\n",
       "      <th></th>\n",
       "      <th></th>\n",
       "      <th></th>\n",
       "    </tr>\n",
       "  </thead>\n",
       "  <tbody>\n",
       "    <tr>\n",
       "      <th>2006-01-03</th>\n",
       "      <td>2006</td>\n",
       "      <td>1</td>\n",
       "      <td>25</td>\n",
       "      <td>17</td>\n",
       "      <td>38</td>\n",
       "      <td>26</td>\n",
       "      <td>23</td>\n",
       "      <td>24</td>\n",
       "      <td>47</td>\n",
       "      <td>blue</td>\n",
       "      <td>rat</td>\n",
       "      <td>odd</td>\n",
       "      <td>big</td>\n",
       "      <td>1</td>\n",
       "    </tr>\n",
       "    <tr>\n",
       "      <th>2006-01-05</th>\n",
       "      <td>2006</td>\n",
       "      <td>2</td>\n",
       "      <td>10</td>\n",
       "      <td>22</td>\n",
       "      <td>46</td>\n",
       "      <td>44</td>\n",
       "      <td>5</td>\n",
       "      <td>38</td>\n",
       "      <td>13</td>\n",
       "      <td>red</td>\n",
       "      <td>dog</td>\n",
       "      <td>odd</td>\n",
       "      <td>small</td>\n",
       "      <td>1</td>\n",
       "    </tr>\n",
       "    <tr>\n",
       "      <th>2006-01-08</th>\n",
       "      <td>2006</td>\n",
       "      <td>3</td>\n",
       "      <td>38</td>\n",
       "      <td>26</td>\n",
       "      <td>28</td>\n",
       "      <td>42</td>\n",
       "      <td>10</td>\n",
       "      <td>1</td>\n",
       "      <td>43</td>\n",
       "      <td>green</td>\n",
       "      <td>dragon</td>\n",
       "      <td>odd</td>\n",
       "      <td>big</td>\n",
       "      <td>1</td>\n",
       "    </tr>\n",
       "    <tr>\n",
       "      <th>2006-01-10</th>\n",
       "      <td>2006</td>\n",
       "      <td>4</td>\n",
       "      <td>38</td>\n",
       "      <td>39</td>\n",
       "      <td>21</td>\n",
       "      <td>25</td>\n",
       "      <td>36</td>\n",
       "      <td>5</td>\n",
       "      <td>4</td>\n",
       "      <td>blue</td>\n",
       "      <td>goat</td>\n",
       "      <td>even</td>\n",
       "      <td>small</td>\n",
       "      <td>1</td>\n",
       "    </tr>\n",
       "    <tr>\n",
       "      <th>2006-01-12</th>\n",
       "      <td>2006</td>\n",
       "      <td>5</td>\n",
       "      <td>15</td>\n",
       "      <td>37</td>\n",
       "      <td>36</td>\n",
       "      <td>24</td>\n",
       "      <td>27</td>\n",
       "      <td>25</td>\n",
       "      <td>35</td>\n",
       "      <td>red</td>\n",
       "      <td>rat</td>\n",
       "      <td>odd</td>\n",
       "      <td>big</td>\n",
       "      <td>1</td>\n",
       "    </tr>\n",
       "  </tbody>\n",
       "</table>\n",
       "</div>"
      ],
      "text/plain": [
       "            year  index  N1  N2  N3  N4  N5  N6  S1  color  zodiac   EvO  \\\n",
       "date                                                                       \n",
       "2006-01-03  2006      1  25  17  38  26  23  24  47   blue     rat   odd   \n",
       "2006-01-05  2006      2  10  22  46  44   5  38  13    red     dog   odd   \n",
       "2006-01-08  2006      3  38  26  28  42  10   1  43  green  dragon   odd   \n",
       "2006-01-10  2006      4  38  39  21  25  36   5   4   blue    goat  even   \n",
       "2006-01-12  2006      5  15  37  36  24  27  25  35    red     rat   odd   \n",
       "\n",
       "               BS  month  \n",
       "date                      \n",
       "2006-01-03    big      1  \n",
       "2006-01-05  small      1  \n",
       "2006-01-08    big      1  \n",
       "2006-01-10  small      1  \n",
       "2006-01-12    big      1  "
      ]
     },
     "execution_count": 42,
     "metadata": {},
     "output_type": "execute_result"
    }
   ],
   "source": [
    "df_concat.head()"
   ]
  },
  {
   "cell_type": "code",
   "execution_count": 43,
   "metadata": {
    "collapsed": true
   },
   "outputs": [],
   "source": [
    "df_concat.to_csv('2006_2017_features.csv')"
   ]
  }
 ],
 "metadata": {
  "kernelspec": {
   "display_name": "Python 3",
   "language": "python",
   "name": "python3"
  },
  "language_info": {
   "codemirror_mode": {
    "name": "ipython",
    "version": 3
   },
   "file_extension": ".py",
   "mimetype": "text/x-python",
   "name": "python",
   "nbconvert_exporter": "python",
   "pygments_lexer": "ipython3",
   "version": "3.6.3"
  }
 },
 "nbformat": 4,
 "nbformat_minor": 2
}
