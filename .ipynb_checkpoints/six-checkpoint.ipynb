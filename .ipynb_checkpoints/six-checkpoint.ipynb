{
 "cells": [
  {
   "cell_type": "code",
   "execution_count": 1,
   "metadata": {
    "collapsed": true
   },
   "outputs": [],
   "source": [
    "import pandas as pd\n",
    "import numpy as np\n",
    "import matplotlib.pyplot as plt\n",
    "%matplotlib inline"
   ]
  },
  {
   "cell_type": "code",
   "execution_count": 2,
   "metadata": {
    "collapsed": true
   },
   "outputs": [],
   "source": [
    "df = pd.read_html('http://www.cpzhan.com/liu-he-cai/all-results/?year=2017&sort=seq', header=0)\n",
    "df2017 = df[0]\n",
    "df2017.columns = ['year','index','date','N1', 'N2', 'N3', 'N4', 'N5', 'N6','S1']"
   ]
  },
  {
   "cell_type": "code",
   "execution_count": null,
   "metadata": {
    "scrolled": true
   },
   "outputs": [],
   "source": [
    "df2017.head()"
   ]
  },
  {
   "cell_type": "code",
   "execution_count": 3,
   "metadata": {
    "collapsed": true
   },
   "outputs": [],
   "source": [
    "def func_1(s1):\n",
    "    \n",
    "    cdict = {'red':[1,2,7,8,12,13,18,19,23,24,29,30,34,35,40,45,46],\n",
    "        'blue':[3,4,9,10,14,15,20,25,26,31,36,37,41,42,47,48],\n",
    "        'green':[5,6,11,16,17,21,22,27,28,32,33,38,39,43,44,49]}\n",
    "    \n",
    "    if s1 in cdict['red']:\n",
    "        return 'red'\n",
    "    elif s1 in cdict['blue']:\n",
    "        return 'blue'\n",
    "    else:\n",
    "        return 'green'"
   ]
  },
  {
   "cell_type": "code",
   "execution_count": 4,
   "metadata": {
    "collapsed": true
   },
   "outputs": [],
   "source": [
    "df2017['color'] = df2017['S1'].apply(func_1)"
   ]
  },
  {
   "cell_type": "code",
   "execution_count": 20,
   "metadata": {
    "collapsed": true
   },
   "outputs": [],
   "source": [
    "def generate_zodiac(year):\n",
    "    \n",
    "    if (year - 2000) % 12 == 0:\n",
    "        sign = 'dragon'\n",
    "    elif (year - 2000) % 12 == 1:\n",
    "        sign = 'snake'\n",
    "    elif (year - 2000) % 12 == 2:\n",
    "        sign = 'horse'\n",
    "    elif (year - 2000) % 12 == 3:\n",
    "        sign = 'goat'\n",
    "    elif (year - 2000) % 12 == 4:\n",
    "        sign = 'monkey'\n",
    "    elif (year - 2000) % 12 == 5:\n",
    "        sign = 'rooster'\n",
    "    elif (year - 2000) % 12 == 6:\n",
    "        sign = 'dog'\n",
    "    elif (year - 2000) % 12 == 7:\n",
    "        sign = 'pig'\n",
    "    elif (year - 2000) % 12 == 8:\n",
    "        sign = 'rat'\n",
    "    elif (year - 2000) % 12 == 9:\n",
    "        sign = 'ox'\n",
    "    elif (sign - 2000) % 12 == 10:\n",
    "        sign = 'tiger'\n",
    "    else:\n",
    "        sign = 'rabbit'\n",
    "        \n",
    "    zdlist = ['monkey','rooster','dog','pig','rat','ox','tiger','rabbit','dragon','snake','horse','goat']*2\n",
    "    seq_list = zdlist[zdlist.index(sign):zdlist.index(sign)+12]\n",
    "    \n",
    "    zodiac = {}\n",
    "    mat = np.arange(1,49).reshape(4,12).transpose().tolist()\n",
    "    mat[0].append(49)\n",
    "    \n",
    "    for num, key in enumerate(seq_list):\n",
    "        \n",
    "        zodiac[key] = mat[num]\n",
    "    \n",
    "    return zodiac"
   ]
  },
  {
   "cell_type": "code",
   "execution_count": 21,
   "metadata": {
    "collapsed": true
   },
   "outputs": [],
   "source": [
    "def func_2(year, s1):\n",
    "    \n",
    "    zodiac = generate_zodiac(year)\n",
    "    \n",
    "    if s1 in zodiac['rat']:\n",
    "        return 'rat'\n",
    "    elif s1 in zodiac['ox']:\n",
    "        return 'ox'\n",
    "    elif s1 in zodiac['tiger']:\n",
    "        return 'tiger'\n",
    "    elif s1 in zodiac['rabbit']:\n",
    "        return 'rabbit'\n",
    "    elif s1 in zodiac['dragon']:\n",
    "        return 'dragon'\n",
    "    elif s1 in zodiac['snake']:\n",
    "        return 'snake'\n",
    "    elif s1 in zodiac['horse']:\n",
    "        return 'horse'\n",
    "    elif s1 in zodiac['goat']:\n",
    "        return 'goat'\n",
    "    elif s1 in zodiac['monkey']:\n",
    "        return 'monkey'\n",
    "    elif s1 in zodiac['rooster']:\n",
    "        return 'rooster'\n",
    "    elif s1 in zodiac['dog']:\n",
    "        return 'dog'\n",
    "    else:\n",
    "        return 'pig'"
   ]
  },
  {
   "cell_type": "code",
   "execution_count": 23,
   "metadata": {},
   "outputs": [],
   "source": [
    "df2017['zodiac'] = df2017.apply(lambda x: func_2(x['year'], x['S1']), axis=1)"
   ]
  },
  {
   "cell_type": "code",
   "execution_count": 24,
   "metadata": {
    "scrolled": true
   },
   "outputs": [
    {
     "data": {
      "text/plain": [
       "tiger      18\n",
       "rabbit     15\n",
       "pig        14\n",
       "dragon     14\n",
       "rooster    14\n",
       "rat        13\n",
       "snake      12\n",
       "monkey     12\n",
       "dog        11\n",
       "ox         11\n",
       "horse      10\n",
       "goat        9\n",
       "Name: zodiac, dtype: int64"
      ]
     },
     "execution_count": 24,
     "metadata": {},
     "output_type": "execute_result"
    }
   ],
   "source": [
    "df2017['zodiac'].value_counts()"
   ]
  },
  {
   "cell_type": "code",
   "execution_count": 25,
   "metadata": {
    "collapsed": true
   },
   "outputs": [],
   "source": [
    "def func_3(s1):\n",
    "    \n",
    "    if s1 % 2 == 0:\n",
    "        return 'even'\n",
    "    else:\n",
    "        return 'odd'"
   ]
  },
  {
   "cell_type": "code",
   "execution_count": 26,
   "metadata": {
    "collapsed": true
   },
   "outputs": [],
   "source": [
    "df2017['EvO'] = df2017['S1'].apply(func_3)"
   ]
  },
  {
   "cell_type": "code",
   "execution_count": 27,
   "metadata": {
    "scrolled": false
   },
   "outputs": [
    {
     "data": {
      "text/plain": [
       "even    78\n",
       "odd     75\n",
       "Name: EvO, dtype: int64"
      ]
     },
     "execution_count": 27,
     "metadata": {},
     "output_type": "execute_result"
    }
   ],
   "source": [
    "df2017['EvO'].value_counts()"
   ]
  },
  {
   "cell_type": "code",
   "execution_count": 31,
   "metadata": {},
   "outputs": [],
   "source": [
    "def func_4(s1):\n",
    "    \n",
    "    if s1 >= 25:\n",
    "        return 'big'\n",
    "    else:\n",
    "        return 'small'"
   ]
  },
  {
   "cell_type": "code",
   "execution_count": 32,
   "metadata": {},
   "outputs": [],
   "source": [
    "df2017['BS'] = df2017['S1'].apply(func_4)"
   ]
  },
  {
   "cell_type": "code",
   "execution_count": 33,
   "metadata": {},
   "outputs": [
    {
     "data": {
      "text/plain": [
       "big      80\n",
       "small    73\n",
       "Name: BS, dtype: int64"
      ]
     },
     "execution_count": 33,
     "metadata": {},
     "output_type": "execute_result"
    }
   ],
   "source": [
    "df2017['BS'].value_counts()"
   ]
  },
  {
   "cell_type": "code",
   "execution_count": 34,
   "metadata": {
    "scrolled": true
   },
   "outputs": [
    {
     "data": {
      "text/html": [
       "<div>\n",
       "<style>\n",
       "    .dataframe thead tr:only-child th {\n",
       "        text-align: right;\n",
       "    }\n",
       "\n",
       "    .dataframe thead th {\n",
       "        text-align: left;\n",
       "    }\n",
       "\n",
       "    .dataframe tbody tr th {\n",
       "        vertical-align: top;\n",
       "    }\n",
       "</style>\n",
       "<table border=\"1\" class=\"dataframe\">\n",
       "  <thead>\n",
       "    <tr style=\"text-align: right;\">\n",
       "      <th></th>\n",
       "      <th>year</th>\n",
       "      <th>index</th>\n",
       "      <th>date</th>\n",
       "      <th>N1</th>\n",
       "      <th>N2</th>\n",
       "      <th>N3</th>\n",
       "      <th>N4</th>\n",
       "      <th>N5</th>\n",
       "      <th>N6</th>\n",
       "      <th>S1</th>\n",
       "      <th>color</th>\n",
       "      <th>zodiac</th>\n",
       "      <th>EvO</th>\n",
       "      <th>BS</th>\n",
       "    </tr>\n",
       "  </thead>\n",
       "  <tbody>\n",
       "    <tr>\n",
       "      <th>0</th>\n",
       "      <td>2017</td>\n",
       "      <td>1</td>\n",
       "      <td>2017-01-03</td>\n",
       "      <td>22</td>\n",
       "      <td>29</td>\n",
       "      <td>37</td>\n",
       "      <td>11</td>\n",
       "      <td>4</td>\n",
       "      <td>46</td>\n",
       "      <td>18</td>\n",
       "      <td>red</td>\n",
       "      <td>tiger</td>\n",
       "      <td>even</td>\n",
       "      <td>small</td>\n",
       "    </tr>\n",
       "    <tr>\n",
       "      <th>1</th>\n",
       "      <td>2017</td>\n",
       "      <td>2</td>\n",
       "      <td>2017-01-05</td>\n",
       "      <td>5</td>\n",
       "      <td>36</td>\n",
       "      <td>20</td>\n",
       "      <td>14</td>\n",
       "      <td>49</td>\n",
       "      <td>21</td>\n",
       "      <td>39</td>\n",
       "      <td>green</td>\n",
       "      <td>pig</td>\n",
       "      <td>odd</td>\n",
       "      <td>big</td>\n",
       "    </tr>\n",
       "    <tr>\n",
       "      <th>2</th>\n",
       "      <td>2017</td>\n",
       "      <td>3</td>\n",
       "      <td>2017-01-07</td>\n",
       "      <td>10</td>\n",
       "      <td>14</td>\n",
       "      <td>7</td>\n",
       "      <td>29</td>\n",
       "      <td>45</td>\n",
       "      <td>46</td>\n",
       "      <td>19</td>\n",
       "      <td>red</td>\n",
       "      <td>rabbit</td>\n",
       "      <td>odd</td>\n",
       "      <td>small</td>\n",
       "    </tr>\n",
       "    <tr>\n",
       "      <th>3</th>\n",
       "      <td>2017</td>\n",
       "      <td>4</td>\n",
       "      <td>2017-01-10</td>\n",
       "      <td>26</td>\n",
       "      <td>14</td>\n",
       "      <td>2</td>\n",
       "      <td>39</td>\n",
       "      <td>7</td>\n",
       "      <td>38</td>\n",
       "      <td>12</td>\n",
       "      <td>red</td>\n",
       "      <td>monkey</td>\n",
       "      <td>even</td>\n",
       "      <td>small</td>\n",
       "    </tr>\n",
       "    <tr>\n",
       "      <th>4</th>\n",
       "      <td>2017</td>\n",
       "      <td>5</td>\n",
       "      <td>2017-01-12</td>\n",
       "      <td>43</td>\n",
       "      <td>30</td>\n",
       "      <td>27</td>\n",
       "      <td>40</td>\n",
       "      <td>18</td>\n",
       "      <td>25</td>\n",
       "      <td>6</td>\n",
       "      <td>green</td>\n",
       "      <td>tiger</td>\n",
       "      <td>even</td>\n",
       "      <td>small</td>\n",
       "    </tr>\n",
       "  </tbody>\n",
       "</table>\n",
       "</div>"
      ],
      "text/plain": [
       "   year  index        date  N1  N2  N3  N4  N5  N6  S1  color  zodiac   EvO  \\\n",
       "0  2017      1  2017-01-03  22  29  37  11   4  46  18    red   tiger  even   \n",
       "1  2017      2  2017-01-05   5  36  20  14  49  21  39  green     pig   odd   \n",
       "2  2017      3  2017-01-07  10  14   7  29  45  46  19    red  rabbit   odd   \n",
       "3  2017      4  2017-01-10  26  14   2  39   7  38  12    red  monkey  even   \n",
       "4  2017      5  2017-01-12  43  30  27  40  18  25   6  green   tiger  even   \n",
       "\n",
       "      BS  \n",
       "0  small  \n",
       "1    big  \n",
       "2  small  \n",
       "3  small  \n",
       "4  small  "
      ]
     },
     "execution_count": 34,
     "metadata": {},
     "output_type": "execute_result"
    }
   ],
   "source": [
    "df2017.head()"
   ]
  }
 ],
 "metadata": {
  "kernelspec": {
   "display_name": "Python 3",
   "language": "python",
   "name": "python3"
  },
  "language_info": {
   "codemirror_mode": {
    "name": "ipython",
    "version": 3
   },
   "file_extension": ".py",
   "mimetype": "text/x-python",
   "name": "python",
   "nbconvert_exporter": "python",
   "pygments_lexer": "ipython3",
   "version": "3.6.3"
  }
 },
 "nbformat": 4,
 "nbformat_minor": 2
}
